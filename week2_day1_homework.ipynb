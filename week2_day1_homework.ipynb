{
 "cells": [
  {
   "cell_type": "markdown",
   "metadata": {},
   "source": [
    "# Week 2 - Monday Lesson (variable assignment, loops, lists)"
   ]
  },
  {
   "cell_type": "markdown",
   "metadata": {},
   "source": [
    "## Tasks Today:\n",
    "\n",
    "1) Int & Float assignments <br>\n",
    " &nbsp;&nbsp;&nbsp;&nbsp; a) Assigning int <br>\n",
    " &nbsp;&nbsp;&nbsp;&nbsp; b) Assigning float <br>\n",
    " &nbsp;&nbsp;&nbsp;&nbsp; c) Performing Calculations on ints and floats <br>\n",
    " &nbsp;&nbsp;&nbsp;&nbsp;&nbsp;&nbsp;&nbsp;&nbsp; - Addition <br>\n",
    " &nbsp;&nbsp;&nbsp;&nbsp;&nbsp;&nbsp;&nbsp;&nbsp; - Subtraction <br>\n",
    " &nbsp;&nbsp;&nbsp;&nbsp;&nbsp;&nbsp;&nbsp;&nbsp; - Multiplication <br>\n",
    " &nbsp;&nbsp;&nbsp;&nbsp;&nbsp;&nbsp;&nbsp;&nbsp; - Division <br>\n",
    " &nbsp;&nbsp;&nbsp;&nbsp;&nbsp;&nbsp;&nbsp;&nbsp; - Floor Division <br>\n",
    " &nbsp;&nbsp;&nbsp;&nbsp;&nbsp;&nbsp;&nbsp;&nbsp; - Modulo <br>\n",
    " &nbsp;&nbsp;&nbsp;&nbsp;&nbsp;&nbsp;&nbsp;&nbsp; - Exponential <br>\n",
    "2) String Input-Output <br>\n",
    " &nbsp;&nbsp;&nbsp;&nbsp; a) String Assignment <br>\n",
    " &nbsp;&nbsp;&nbsp;&nbsp; b) print() <br>\n",
    " &nbsp;&nbsp;&nbsp;&nbsp; c) String Concatenation <br>\n",
    " &nbsp;&nbsp;&nbsp;&nbsp; d) Type Conversion <br>\n",
    " &nbsp;&nbsp;&nbsp;&nbsp; e) input() <br>\n",
    " &nbsp;&nbsp;&nbsp;&nbsp; f) format() <br>\n",
    " &nbsp;&nbsp;&nbsp;&nbsp; g) Old Way (python 2) <br>\n",
    "3) <b>In-Class Exercise #1</b> <br>\n",
    "4) If Statements <br>\n",
    " &nbsp;&nbsp;&nbsp;&nbsp; a) 'is' keyword <br>\n",
    " &nbsp;&nbsp;&nbsp;&nbsp; b) 'in' keyword <br>\n",
    " &nbsp;&nbsp;&nbsp;&nbsp; c) 'not in' keyword <br>\n",
    "5) <b>In-Class Exercise #2</b> <br>\n",
    "6) Elif Statements <br>\n",
    "7) Else Statements <br>\n",
    "8) <b>In-Class Exercise #3</b> <br>\n",
    "9) For Loops <br>\n",
    " &nbsp;&nbsp;&nbsp;&nbsp; a) Using 'in' keyword <br>\n",
    " &nbsp;&nbsp;&nbsp;&nbsp; b) Continue Statement <br>\n",
    " &nbsp;&nbsp;&nbsp;&nbsp; c) Break Statement <br>\n",
    " &nbsp;&nbsp;&nbsp;&nbsp; d) Pass Statement <br>\n",
    " &nbsp;&nbsp;&nbsp;&nbsp; e) Double For Loops <br>\n",
    "10) While Loops <br>\n",
    " &nbsp;&nbsp;&nbsp;&nbsp; a) Looping 'While True' <br>\n",
    " &nbsp;&nbsp;&nbsp;&nbsp; b) While and For Loops Used Together <br>\n",
    "11) Built-In Functions <br>\n",
    " &nbsp;&nbsp;&nbsp;&nbsp; a) range() <br>\n",
    " &nbsp;&nbsp;&nbsp;&nbsp; b) len() <br>\n",
    " &nbsp;&nbsp;&nbsp;&nbsp; c) help() <br>\n",
    " &nbsp;&nbsp;&nbsp;&nbsp; d) isinstance() <br>\n",
    " &nbsp;&nbsp;&nbsp;&nbsp; e) abs() <br>\n",
    "12) Try and Except <br>\n",
    "13) Lists <br>\n",
    " &nbsp;&nbsp;&nbsp;&nbsp; a) Declaring Lists <br>\n",
    " &nbsp;&nbsp;&nbsp;&nbsp; b) Indexing a List <br>\n",
    " &nbsp;&nbsp;&nbsp;&nbsp; c) .append() <br>\n",
    " &nbsp;&nbsp;&nbsp;&nbsp; d) .insert() <br>\n",
    " &nbsp;&nbsp;&nbsp;&nbsp; e) .pop() <br>\n",
    " &nbsp;&nbsp;&nbsp;&nbsp; f) .remove() <br>\n",
    " &nbsp;&nbsp;&nbsp;&nbsp; g) del() <br>\n",
    " &nbsp;&nbsp;&nbsp;&nbsp; h) Concatenating Two Lists <br>\n",
    " &nbsp;&nbsp;&nbsp;&nbsp; i) Lists Within Lists <br>\n",
    " &nbsp;&nbsp;&nbsp;&nbsp; j) Looping Through Lists <br>"
   ]
  },
  {
   "cell_type": "markdown",
   "metadata": {},
   "source": [
    "### Int & Float Assignments"
   ]
  },
  {
   "cell_type": "markdown",
   "metadata": {},
   "source": [
    "##### Assigning int"
   ]
  },
  {
   "cell_type": "code",
   "execution_count": 1,
   "metadata": {},
   "outputs": [
    {
     "name": "stdout",
     "output_type": "stream",
     "text": [
      "6\n",
      "7\n"
     ]
    }
   ],
   "source": [
    "number = 6\n",
    "print(number)\n",
    "\n",
    "elephant = 7\n",
    "print(elephant)\n",
    "x = 5\n",
    "y = 2"
   ]
  },
  {
   "cell_type": "markdown",
   "metadata": {},
   "source": [
    "##### Assinging float"
   ]
  },
  {
   "cell_type": "code",
   "execution_count": 3,
   "metadata": {},
   "outputs": [
    {
     "name": "stdout",
     "output_type": "stream",
     "text": [
      "2.3\n"
     ]
    }
   ],
   "source": [
    "#float = any number with a decimal\n",
    "num_Float = 2.3\n",
    "\n",
    "print(num_Float)"
   ]
  },
  {
   "cell_type": "markdown",
   "metadata": {},
   "source": [
    "#### Performing Calculations on ints and floats"
   ]
  },
  {
   "cell_type": "markdown",
   "metadata": {},
   "source": [
    "##### Addition"
   ]
  },
  {
   "cell_type": "code",
   "execution_count": 4,
   "metadata": {},
   "outputs": [
    {
     "name": "stdout",
     "output_type": "stream",
     "text": [
      "7.4\n",
      "9.4\n"
     ]
    }
   ],
   "source": [
    "num1 = 2\n",
    "num2 = 5.4\n",
    "\n",
    "result = num1 + num2\n",
    "\n",
    "print(result)\n",
    "\n",
    "# Short-hand version \n",
    "result += 2 # result = result + 2\n",
    "print(result)"
   ]
  },
  {
   "cell_type": "markdown",
   "metadata": {},
   "source": [
    "##### Subtraction"
   ]
  },
  {
   "cell_type": "code",
   "execution_count": 8,
   "metadata": {},
   "outputs": [
    {
     "name": "stdout",
     "output_type": "stream",
     "text": [
      "-3\n",
      "-4\n"
     ]
    }
   ],
   "source": [
    "num1 = 7\n",
    "num2 = 10\n",
    "result_diff = num1 - num2\n",
    "print(result_diff)\n",
    "\n",
    "# Short-hand version \n",
    "result_diff -= 1\n",
    "print(result_diff)"
   ]
  },
  {
   "cell_type": "markdown",
   "metadata": {},
   "source": [
    "##### Multiplication"
   ]
  },
  {
   "cell_type": "code",
   "execution_count": 6,
   "metadata": {},
   "outputs": [
    {
     "name": "stdout",
     "output_type": "stream",
     "text": [
      "70\n",
      "140\n"
     ]
    }
   ],
   "source": [
    "result_prod = num1 * num2\n",
    "print(result_prod)\n",
    "\n",
    "#short-hand\n",
    "result_prod *= 2\n",
    "print(result_prod)"
   ]
  },
  {
   "cell_type": "markdown",
   "metadata": {},
   "source": [
    "##### Division"
   ]
  },
  {
   "cell_type": "code",
   "execution_count": 12,
   "metadata": {},
   "outputs": [
    {
     "name": "stdout",
     "output_type": "stream",
     "text": [
      "2\n",
      "1.0\n"
     ]
    },
    {
     "data": {
      "text/plain": [
       "1"
      ]
     },
     "execution_count": 12,
     "metadata": {},
     "output_type": "execute_result"
    }
   ],
   "source": [
    "num3 = 20\n",
    "num4 = 5\n",
    "result_dividend = 2\n",
    "print(result_dividend)\n",
    "\n",
    "#short-hand version\n",
    "result_dividend /= 2\n",
    "print(result_dividend)\n",
    "int(result_dividend)"
   ]
  },
  {
   "cell_type": "markdown",
   "metadata": {},
   "source": [
    "##### Floor Division"
   ]
  },
  {
   "cell_type": "code",
   "execution_count": 14,
   "metadata": {},
   "outputs": [
    {
     "name": "stdout",
     "output_type": "stream",
     "text": [
      "2\n"
     ]
    }
   ],
   "source": [
    "num5 = 15\n",
    "num6 = 7\n",
    "result_floor = num5 // num6\n",
    "print (result_floor)\n",
    "\n",
    "# my_list = [1, 2, 3, 4, 5]\n",
    "\n",
    "# list_length = len(my_list)\n",
    "# print(list_length) // 2\n",
    "     \n",
    "# list_floored\n",
    "\n",
    "# if len(list) % 2 == 0"
   ]
  },
  {
   "cell_type": "markdown",
   "metadata": {},
   "source": [
    "##### Modulo"
   ]
  },
  {
   "cell_type": "code",
   "execution_count": 16,
   "metadata": {},
   "outputs": [
    {
     "ename": "SyntaxError",
     "evalue": "invalid syntax (3374797780.py, line 12)",
     "output_type": "error",
     "traceback": [
      "\u001b[1;36m  Cell \u001b[1;32mIn [16], line 12\u001b[1;36m\u001b[0m\n\u001b[1;33m    if num3 % 2 == 0\u001b[0m\n\u001b[1;37m                    ^\u001b[0m\n\u001b[1;31mSyntaxError\u001b[0m\u001b[1;31m:\u001b[0m invalid syntax\n"
     ]
    }
   ],
   "source": [
    "num1 = 11\n",
    "num2 = 2\n",
    "remainder = num1 % num2\n",
    "print(remainder)\n",
    "\n",
    "num3 = 10\n",
    "num4 = 2\n",
    "\n",
    "remainder2 = num3 % num4\n",
    "print(remainder2)\n",
    "\n",
    "if num3 % 2 == 0"
   ]
  },
  {
   "cell_type": "markdown",
   "metadata": {},
   "source": [
    "##### Exponential"
   ]
  },
  {
   "cell_type": "code",
   "execution_count": 17,
   "metadata": {},
   "outputs": [
    {
     "name": "stdout",
     "output_type": "stream",
     "text": [
      "25\n",
      "625\n"
     ]
    }
   ],
   "source": [
    "square = 5 ** 2\n",
    "print(square)\n",
    "\n",
    "#short-hand version\n",
    "square **= 2\n",
    "print(square)"
   ]
  },
  {
   "cell_type": "markdown",
   "metadata": {},
   "source": [
    "### String Input-Output"
   ]
  },
  {
   "cell_type": "markdown",
   "metadata": {},
   "source": [
    "##### String Assignment"
   ]
  },
  {
   "cell_type": "code",
   "execution_count": 18,
   "metadata": {},
   "outputs": [
    {
     "name": "stdout",
     "output_type": "stream",
     "text": [
      "Cassandra\n"
     ]
    }
   ],
   "source": [
    "name = \"Cassandra\"\n",
    "print(name)"
   ]
  },
  {
   "cell_type": "markdown",
   "metadata": {},
   "source": [
    "##### print() <br>\n",
    "<p>Don't forget about end=' '</p>"
   ]
  },
  {
   "cell_type": "code",
   "execution_count": 21,
   "metadata": {},
   "outputs": [
    {
     "name": "stdout",
     "output_type": "stream",
     "text": [
      "This is my first name:  Cassandra\n",
      "Full Name:  CassandraBeattie"
     ]
    }
   ],
   "source": [
    "print(\"This is my first name: \", name)\n",
    "print(\"Full Name: \", name, end=\"Beattie\")"
   ]
  },
  {
   "cell_type": "markdown",
   "metadata": {},
   "source": [
    "##### String Concatenation"
   ]
  },
  {
   "cell_type": "code",
   "execution_count": 27,
   "metadata": {},
   "outputs": [
    {
     "name": "stdout",
     "output_type": "stream",
     "text": [
      "Luke Skywalker\n",
      "Luke Skywalker Jedi Knight \n"
     ]
    }
   ],
   "source": [
    "first_name = \"Luke\"\n",
    "last_name = \"Skywalker\"\n",
    "\n",
    "full_name = first_name + \" \" + last_name\n",
    "print(full_name)\n",
    "\n",
    "# Short-hand version\n",
    "full_name += \" Jedi Knight \"\n",
    "print(full_name)\n"
   ]
  },
  {
   "cell_type": "markdown",
   "metadata": {},
   "source": [
    "##### Type Conversion"
   ]
  },
  {
   "cell_type": "code",
   "execution_count": null,
   "metadata": {},
   "outputs": [],
   "source": [
    "number = \"32\"\n",
    "name = \"10\"\n",
    "print(int(name))\n"
   ]
  },
  {
   "cell_type": "markdown",
   "metadata": {},
   "source": [
    "##### input()"
   ]
  },
  {
   "cell_type": "code",
   "execution_count": 28,
   "metadata": {},
   "outputs": [
    {
     "name": "stdout",
     "output_type": "stream",
     "text": [
      "What is your age?: 24\n",
      "25\n",
      "<class 'int'>\n"
     ]
    }
   ],
   "source": [
    "#input will always return a string -- all the time -- forever and ever\n",
    "\n",
    "# name = input('What is your name? ')\n",
    "# color = input('What is your favorite color? ')\n",
    "# quest = input('What is your quest? ')\n",
    "\n",
    "# print(name)\n",
    "\n",
    "age = int(input(\"What is your age?: \"))\n",
    "\n",
    "add_age = age + 1\n",
    "\n",
    "print(add_age)\n",
    "print(type(age))"
   ]
  },
  {
   "cell_type": "markdown",
   "metadata": {},
   "source": [
    "##### format()"
   ]
  },
  {
   "cell_type": "code",
   "execution_count": 29,
   "metadata": {},
   "outputs": [
    {
     "name": "stdout",
     "output_type": "stream",
     "text": [
      "What is your age? 24\n",
      "What is your name? cassie\n",
      "You are 24 cassie and you are getting wiser!\n"
     ]
    }
   ],
   "source": [
    "age = input(\"What is your age? \")\n",
    "name = input(\"What is your name? \")\n",
    "\n",
    "result_string = \"You are {} {} and you are getting wiser!\".format(age,name)\n",
    "print(result_string)"
   ]
  },
  {
   "cell_type": "code",
   "execution_count": 30,
   "metadata": {},
   "outputs": [
    {
     "name": "stdout",
     "output_type": "stream",
     "text": [
      "24 is a great time in life!!!\n"
     ]
    }
   ],
   "source": [
    "result_again = f\"{age} is a great time in life!!!\"\n",
    "print(result_again)"
   ]
  },
  {
   "cell_type": "markdown",
   "metadata": {},
   "source": [
    "##### Old Way (python 2)"
   ]
  },
  {
   "cell_type": "code",
   "execution_count": 33,
   "metadata": {},
   "outputs": [
    {
     "ename": "SyntaxError",
     "evalue": "invalid syntax (4292656799.py, line 1)",
     "output_type": "error",
     "traceback": [
      "\u001b[1;36m  Cell \u001b[1;32mIn [33], line 1\u001b[1;36m\u001b[0m\n\u001b[1;33m    result_string2 = \"You are %s and you\" and you look great for your age!\" %age\u001b[0m\n\u001b[1;37m                                                  ^\u001b[0m\n\u001b[1;31mSyntaxError\u001b[0m\u001b[1;31m:\u001b[0m invalid syntax\n"
     ]
    }
   ],
   "source": [
    "result_string2 = \"You are %s and you\" and you look great for your age!\" %age\n",
    "print(result_string2)"
   ]
  },
  {
   "cell_type": "markdown",
   "metadata": {},
   "source": [
    "# In-Class Exercise 1 <br>\n",
    "<p>Create a format statement that asks for color, year, make, model and prints out the results</p>"
   ]
  },
  {
   "cell_type": "code",
   "execution_count": 34,
   "metadata": {},
   "outputs": [
    {
     "name": "stdout",
     "output_type": "stream",
     "text": [
      "What is the color?green\n",
      "What is the year?2011\n",
      "What is the make? bmw\n",
      "What is the model? x5\n",
      "My car is a green 2011 bmw x5 and it kindly takes me to Aldi sometimes.\n"
     ]
    }
   ],
   "source": [
    "color = input(\"What is the color?\")\n",
    "year = input(\"What is the year?\")\n",
    "make = input(\"What is the make? \") \n",
    "model = input(\"What is the model? \")\n",
    "\n",
    "\n",
    "result_string = \"My car is a {} {} {} {} and it kindly takes me to Aldi sometimes.\" .format(color, year, make, model)\n",
    "print(result_string)"
   ]
  },
  {
   "cell_type": "markdown",
   "metadata": {},
   "source": [
    "### If Statements"
   ]
  },
  {
   "cell_type": "code",
   "execution_count": 35,
   "metadata": {},
   "outputs": [
    {
     "name": "stdout",
     "output_type": "stream",
     "text": [
      "Not Equal\n",
      "Num2 is greater\n"
     ]
    }
   ],
   "source": [
    "# Available operators: Greater(>), Less(<),Equal(==)\n",
    "# Greater or Equal(>=), Less or Equal (<=)\n",
    "\n",
    "# Truth Tree:\n",
    "# T && F = F\n",
    "# T && T = T\n",
    "# T || F = T\n",
    "# F || T = T\n",
    "# F || F = F\n",
    "\n",
    "num1 = 5\n",
    "num2 = 10\n",
    "\n",
    "if num2 == num1:\n",
    "    print('Equal Values')\n",
    "else:\n",
    "    print(\"Not Equal\")\n",
    "    \n",
    "if num2 >= num1:\n",
    "    print(\"Num2 is greater\")\n",
    "elif num1 <= num2:\n",
    "    print(\"Num1 is less than\")\n"
   ]
  },
  {
   "cell_type": "markdown",
   "metadata": {},
   "source": [
    "##### 'is' keyword"
   ]
  },
  {
   "cell_type": "code",
   "execution_count": 39,
   "metadata": {
    "scrolled": true
   },
   "outputs": [
    {
     "name": "stdout",
     "output_type": "stream",
     "text": [
      "55\n",
      "3\n",
      "num4 is num3\n",
      "50\n",
      "3\n"
     ]
    }
   ],
   "source": [
    "# use the \"is\" keyword when checking for same/similar object, NOT same value\n",
    "num3 = 55\n",
    "\n",
    "# if num3 is 55:\n",
    "#    print(\"This is the exact number/object\")\n",
    "\n",
    "num4 = 3\n",
    "\n",
    "print(num3)\n",
    "print(num4)\n",
    "\n",
    "if num3 is num3:\n",
    "    print(\"num4 is num3\")\n",
    "    \n",
    "num3 = 50\n",
    "print(num3)\n",
    "print(num4)"
   ]
  },
  {
   "cell_type": "markdown",
   "metadata": {},
   "source": [
    "##### 'in' keyword"
   ]
  },
  {
   "cell_type": "code",
   "execution_count": 37,
   "metadata": {},
   "outputs": [
    {
     "name": "stdout",
     "output_type": "stream",
     "text": [
      "The Character who lost everything...\n"
     ]
    }
   ],
   "source": [
    "# Checking for membership in an interable\n",
    "char_name = \"Boba Fett\"\n",
    "\n",
    "if \"Boba\" in char_name:\n",
    "    print(\"Oh No, the sarlaac...\")\n",
    "    \n",
    "if \"o\" in char_name:\n",
    "    print(\"There is an O...\")\n",
    "\n",
    "my_list = [1, 2, 3, 4, 5]\n",
    "my_list2 = [1, 3, 5, 7, 9]\n",
    "\n",
    "if 1 in my_list:\n",
    "    print(\"YAY A 1\")\n",
    "    \n",
    "for x in my_list2:\n",
    "    "
   ]
  },
  {
   "cell_type": "markdown",
   "metadata": {},
   "source": [
    "##### 'not in' keyword'"
   ]
  },
  {
   "cell_type": "code",
   "execution_count": 41,
   "metadata": {},
   "outputs": [
    {
     "name": "stdout",
     "output_type": "stream",
     "text": [
      "This is Sonic, not Sonic...\n"
     ]
    }
   ],
   "source": [
    "sega_char = \"Sonic\"\n",
    "\n",
    "if 'a' not in sega_char:\n",
    "    print(\"This is Sonic, not Sonic...\")\n",
    "else:\n",
    "    print(\"Gotta go fast\")"
   ]
  },
  {
   "cell_type": "markdown",
   "metadata": {},
   "source": [
    "# In-Class Exercise 2 <br>\n",
    "<p>Ask user for input, check to see if the letter 'p' is in the input</p>"
   ]
  },
  {
   "cell_type": "code",
   "execution_count": 43,
   "metadata": {},
   "outputs": [
    {
     "name": "stdout",
     "output_type": "stream",
     "text": [
      "Enter a message! hey\n",
      "There's no p.\n"
     ]
    }
   ],
   "source": [
    "message = input(\"Enter a message! \")\n",
    "if \"p\" in message:\n",
    "    print(\"There's a p!\")\n",
    "else:\n",
    "    print(\"There's no p.\")"
   ]
  },
  {
   "cell_type": "code",
   "execution_count": 42,
   "metadata": {},
   "outputs": [
    {
     "name": "stdout",
     "output_type": "stream",
     "text": [
      "What is your favorite tv character? sonic\n",
      "There is no letter p in your answer\n"
     ]
    }
   ],
   "source": [
    "favorite_char = input(\"What is your favorite tv character? \")\n",
    "\n",
    "if 'p' in favorite_char:\n",
    "    print(\"The letter p is in your answer\")\n",
    "else:\n",
    "    print(\"There is no letter p in your answer\")"
   ]
  },
  {
   "cell_type": "markdown",
   "metadata": {},
   "source": [
    "## Using 'and'/'or' with If Statements"
   ]
  },
  {
   "cell_type": "code",
   "execution_count": 46,
   "metadata": {},
   "outputs": [
    {
     "name": "stdout",
     "output_type": "stream",
     "text": [
      "True and True\n",
      "True\n",
      "True and False\n",
      "true\n"
     ]
    }
   ],
   "source": [
    "# Truth Tree:\n",
    "# T && F = F\n",
    "# T && T = T\n",
    "# T || F = T\n",
    "# F || T = T\n",
    "# F || F = F\n",
    "\n",
    "num_1 = 15\n",
    "num_2 = 3\n",
    "num_3 = 10\n",
    "num_4 = 3\n",
    "\n",
    "# If with and\n",
    "if num_1 / 5 == num_2 and num_3 - 7 == num_4:\n",
    "    print(\"True and True\")\n",
    "    print(True)\n",
    "    \n",
    "# If with or\n",
    "if num_1 > num_2 or num_3 == num_4:\n",
    "    print(\"True and False\")\n",
    "    print(\"true\")\n",
    "else:\n",
    "     print(False)"
   ]
  },
  {
   "cell_type": "markdown",
   "metadata": {},
   "source": [
    "### Elif Statements"
   ]
  },
  {
   "cell_type": "code",
   "execution_count": 47,
   "metadata": {},
   "outputs": [
    {
     "name": "stdout",
     "output_type": "stream",
     "text": [
      "The name is NOT Max\n"
     ]
    }
   ],
   "source": [
    "first_name = \"Cassie\"\n",
    "another_name = \"Cheetor\"\n",
    "\n",
    "if first_name == \"Smith\":\n",
    "    print(\"The name is Smith\")\n",
    "elif first_name != 'Max':\n",
    "    print(\"The name is NOT Max\")\n",
    "else:\n",
    "    print(\"The name is Max\")"
   ]
  },
  {
   "cell_type": "code",
   "execution_count": null,
   "metadata": {},
   "outputs": [],
   "source": []
  },
  {
   "cell_type": "markdown",
   "metadata": {},
   "source": [
    "### Else Statements"
   ]
  },
  {
   "cell_type": "code",
   "execution_count": 48,
   "metadata": {},
   "outputs": [],
   "source": [
    "# see above"
   ]
  },
  {
   "cell_type": "markdown",
   "metadata": {},
   "source": [
    "### For Loops"
   ]
  },
  {
   "cell_type": "code",
   "execution_count": 49,
   "metadata": {
    "scrolled": true
   },
   "outputs": [
    {
     "name": "stdout",
     "output_type": "stream",
     "text": [
      "C\n",
      "a\n",
      "s\n",
      "s\n",
      "a\n",
      "n\n",
      "d\n",
      "r\n",
      "a\n",
      " \n",
      "B\n",
      "e\n",
      "a\n",
      "t\n",
      "t\n",
      "i\n",
      "e\n",
      "C\n",
      "a\n",
      "s\n",
      "s\n",
      "a\n",
      "n\n",
      "d\n",
      "r\n",
      "a\n",
      " \n",
      "B\n",
      "e\n",
      "a\n",
      "t\n",
      "t\n",
      "i\n",
      "e\n"
     ]
    }
   ],
   "source": [
    "# for keyword, counter, in keyword, condition\n",
    "\n",
    "# for i in range(10):\n",
    "#     print(i)\n",
    "    \n",
    "name = \"Cassandra Beattie\"\n",
    "\n",
    "for letter in name:\n",
    "    print(letter)\n",
    "    \n",
    "for i in range(len(name)):\n",
    "    print(name[i])"
   ]
  },
  {
   "cell_type": "markdown",
   "metadata": {},
   "source": [
    "##### Using 'in' keyword"
   ]
  },
  {
   "cell_type": "code",
   "execution_count": 50,
   "metadata": {},
   "outputs": [],
   "source": [
    "# see above"
   ]
  },
  {
   "cell_type": "markdown",
   "metadata": {},
   "source": [
    "##### Continue Statement"
   ]
  },
  {
   "cell_type": "code",
   "execution_count": null,
   "metadata": {},
   "outputs": [],
   "source": [
    "# will continue to next iteration"
   ]
  },
  {
   "cell_type": "code",
   "execution_count": 51,
   "metadata": {},
   "outputs": [
    {
     "name": "stdout",
     "output_type": "stream",
     "text": [
      "0\n",
      "1\n",
      "2\n",
      "3\n",
      "4\n",
      "6\n",
      "7\n",
      "8\n",
      "9\n",
      "10\n",
      "11\n",
      "12\n",
      "13\n",
      "14\n",
      "15\n",
      "16\n",
      "17\n",
      "18\n",
      "19\n"
     ]
    }
   ],
   "source": [
    "for i in range(20):\n",
    "    if i == 5:\n",
    "        continue\n",
    "    print(i)"
   ]
  },
  {
   "cell_type": "markdown",
   "metadata": {},
   "source": [
    "##### Break Statement"
   ]
  },
  {
   "cell_type": "code",
   "execution_count": null,
   "metadata": {},
   "outputs": [],
   "source": [
    "# will break out of current loop"
   ]
  },
  {
   "cell_type": "code",
   "execution_count": 52,
   "metadata": {},
   "outputs": [
    {
     "name": "stdout",
     "output_type": "stream",
     "text": [
      "0\n",
      "1\n",
      "2\n",
      "3\n",
      "4\n"
     ]
    }
   ],
   "source": [
    "for i in range(20):\n",
    "    if i == 5:\n",
    "        break\n",
    "    print(i)"
   ]
  },
  {
   "cell_type": "markdown",
   "metadata": {},
   "source": [
    "##### Pass Statement"
   ]
  },
  {
   "cell_type": "code",
   "execution_count": null,
   "metadata": {},
   "outputs": [],
   "source": [
    "# mostly used as a placeholder, and will continue on same iteration"
   ]
  },
  {
   "cell_type": "code",
   "execution_count": 53,
   "metadata": {},
   "outputs": [],
   "source": [
    "name = \"Mega Man\"\n",
    "for i in name:\n",
    "    pass # TODO: COME BACK AND FINISH IMPLEMENTATION"
   ]
  },
  {
   "cell_type": "markdown",
   "metadata": {},
   "source": [
    "##### Double For Loops"
   ]
  },
  {
   "cell_type": "code",
   "execution_count": 57,
   "metadata": {},
   "outputs": [
    {
     "name": "stdout",
     "output_type": "stream",
     "text": [
      "0\n",
      "0\n",
      "i =  0 j =  0\n",
      "0\n",
      "i =  0 j =  1\n",
      "0\n",
      "i =  0 j =  2\n",
      "0\n",
      "i =  0 j =  3\n",
      "0\n",
      "i =  0 j =  4\n",
      "1\n",
      "1\n",
      "i =  1 j =  0\n",
      "1\n",
      "i =  1 j =  1\n",
      "1\n",
      "i =  1 j =  2\n",
      "1\n",
      "i =  1 j =  3\n",
      "1\n",
      "i =  1 j =  4\n",
      "2\n",
      "2\n",
      "i =  2 j =  0\n",
      "2\n",
      "i =  2 j =  1\n",
      "2\n",
      "i =  2 j =  2\n",
      "2\n",
      "i =  2 j =  3\n",
      "2\n",
      "i =  2 j =  4\n",
      "3\n",
      "3\n",
      "i =  3 j =  0\n",
      "3\n",
      "i =  3 j =  1\n",
      "3\n",
      "i =  3 j =  2\n",
      "3\n",
      "i =  3 j =  3\n",
      "3\n",
      "i =  3 j =  4\n",
      "4\n",
      "4\n",
      "i =  4 j =  0\n",
      "4\n",
      "i =  4 j =  1\n",
      "4\n",
      "i =  4 j =  2\n",
      "4\n",
      "i =  4 j =  3\n",
      "4\n",
      "i =  4 j =  4\n"
     ]
    }
   ],
   "source": [
    "my_list = [1, 2, 3, 4, 5, 6]\n",
    "my_list2 = [7, 8, 9, 10, 11, 12]\n",
    "\n",
    "# for i in range(5):\n",
    "#   for j in range(5):\n",
    "#      print(\"i = \", i, \"j = \", j)\n",
    "\n",
    "for i in range(5):\n",
    "    print(i)\n",
    "    for j in range(5):\n",
    "        print(i)\n",
    "        print(\"i = \", i, \"j = \", j)"
   ]
  },
  {
   "cell_type": "markdown",
   "metadata": {},
   "source": [
    "### While Loops"
   ]
  },
  {
   "cell_type": "code",
   "execution_count": 58,
   "metadata": {},
   "outputs": [
    {
     "name": "stdout",
     "output_type": "stream",
     "text": [
      "0\n",
      "1\n",
      "2\n",
      "3\n",
      "4\n",
      "5\n",
      "6\n",
      "7\n",
      "8\n",
      "9\n"
     ]
    }
   ],
   "source": [
    "# while keyword, condition statement\n",
    "# based on the conditional Statement\n",
    "\n",
    "num = 0\n",
    "while num < 10:\n",
    "    print(num)\n",
    "    num += 1"
   ]
  },
  {
   "cell_type": "markdown",
   "metadata": {},
   "source": [
    "##### Looping 'While True'"
   ]
  },
  {
   "cell_type": "code",
   "execution_count": 59,
   "metadata": {},
   "outputs": [
    {
     "name": "stdout",
     "output_type": "stream",
     "text": [
      "Infinite Loop\n"
     ]
    }
   ],
   "source": [
    "game_over = False\n",
    "\n",
    "while True:\n",
    "    print(\"Infinite Loop\")\n",
    "    if game_over == False:\n",
    "        break"
   ]
  },
  {
   "cell_type": "markdown",
   "metadata": {},
   "source": [
    "##### While & For Loops Used Together"
   ]
  },
  {
   "cell_type": "code",
   "execution_count": 60,
   "metadata": {},
   "outputs": [
    {
     "name": "stdout",
     "output_type": "stream",
     "text": [
      "\n",
      " While Loop Iteration: 0\n",
      "For Loop Iteration:  0\n",
      "For Loop Iteration:  1\n",
      "\n",
      " While Loop Iteration: 1\n",
      "For Loop Iteration:  0\n",
      "For Loop Iteration:  1\n",
      "\n",
      " While Loop Iteration: 2\n",
      "For Loop Iteration:  0\n",
      "For Loop Iteration:  1\n",
      "\n",
      " While Loop Iteration: 3\n",
      "For Loop Iteration:  0\n",
      "For Loop Iteration:  1\n",
      "\n",
      " While Loop Iteration: 4\n",
      "For Loop Iteration:  0\n",
      "For Loop Iteration:  1\n"
     ]
    }
   ],
   "source": [
    "num = 0\n",
    "\n",
    "while num < 5:\n",
    "    print(\"\\n While Loop Iteration: \" + str(num))\n",
    "    \n",
    "    for i in range(2):\n",
    "        print(\"For Loop Iteration: \", str(i))\n",
    "        \n",
    "    num += 1"
   ]
  },
  {
   "cell_type": "markdown",
   "metadata": {},
   "source": [
    "### Built-In Functions"
   ]
  },
  {
   "cell_type": "markdown",
   "metadata": {},
   "source": [
    "##### range()"
   ]
  },
  {
   "cell_type": "code",
   "execution_count": 62,
   "metadata": {},
   "outputs": [
    {
     "name": "stdout",
     "output_type": "stream",
     "text": [
      "0\n",
      "2\n",
      "4\n",
      "6\n",
      "8\n",
      "10\n",
      "12\n",
      "14\n",
      "16\n",
      "18\n"
     ]
    }
   ],
   "source": [
    "#Start, Stop, Step\n",
    "\n",
    "#for i in range(1, 100, 2):\n",
    "#   print(i)\n",
    "\n",
    "for i in range(0, 20, 2):\n",
    "    print(i)"
   ]
  },
  {
   "cell_type": "markdown",
   "metadata": {},
   "source": [
    "##### len()"
   ]
  },
  {
   "cell_type": "code",
   "execution_count": 63,
   "metadata": {},
   "outputs": [
    {
     "name": "stdout",
     "output_type": "stream",
     "text": [
      "4\n"
     ]
    }
   ],
   "source": [
    "# check Length of variable\n",
    "name = \"Max \"\n",
    "\n",
    "length = len(name)\n",
    "print(length)"
   ]
  },
  {
   "cell_type": "markdown",
   "metadata": {},
   "source": [
    "##### help()"
   ]
  },
  {
   "cell_type": "code",
   "execution_count": 64,
   "metadata": {},
   "outputs": [
    {
     "name": "stdout",
     "output_type": "stream",
     "text": [
      "Help on class range in module builtins:\n",
      "\n",
      "class range(object)\n",
      " |  range(stop) -> range object\n",
      " |  range(start, stop[, step]) -> range object\n",
      " |  \n",
      " |  Return an object that produces a sequence of integers from start (inclusive)\n",
      " |  to stop (exclusive) by step.  range(i, j) produces i, i+1, i+2, ..., j-1.\n",
      " |  start defaults to 0, and stop is omitted!  range(4) produces 0, 1, 2, 3.\n",
      " |  These are exactly the valid indices for a list of 4 elements.\n",
      " |  When step is given, it specifies the increment (or decrement).\n",
      " |  \n",
      " |  Methods defined here:\n",
      " |  \n",
      " |  __bool__(self, /)\n",
      " |      True if self else False\n",
      " |  \n",
      " |  __contains__(self, key, /)\n",
      " |      Return key in self.\n",
      " |  \n",
      " |  __eq__(self, value, /)\n",
      " |      Return self==value.\n",
      " |  \n",
      " |  __ge__(self, value, /)\n",
      " |      Return self>=value.\n",
      " |  \n",
      " |  __getattribute__(self, name, /)\n",
      " |      Return getattr(self, name).\n",
      " |  \n",
      " |  __getitem__(self, key, /)\n",
      " |      Return self[key].\n",
      " |  \n",
      " |  __gt__(self, value, /)\n",
      " |      Return self>value.\n",
      " |  \n",
      " |  __hash__(self, /)\n",
      " |      Return hash(self).\n",
      " |  \n",
      " |  __iter__(self, /)\n",
      " |      Implement iter(self).\n",
      " |  \n",
      " |  __le__(self, value, /)\n",
      " |      Return self<=value.\n",
      " |  \n",
      " |  __len__(self, /)\n",
      " |      Return len(self).\n",
      " |  \n",
      " |  __lt__(self, value, /)\n",
      " |      Return self<value.\n",
      " |  \n",
      " |  __ne__(self, value, /)\n",
      " |      Return self!=value.\n",
      " |  \n",
      " |  __reduce__(...)\n",
      " |      Helper for pickle.\n",
      " |  \n",
      " |  __repr__(self, /)\n",
      " |      Return repr(self).\n",
      " |  \n",
      " |  __reversed__(...)\n",
      " |      Return a reverse iterator.\n",
      " |  \n",
      " |  count(...)\n",
      " |      rangeobject.count(value) -> integer -- return number of occurrences of value\n",
      " |  \n",
      " |  index(...)\n",
      " |      rangeobject.index(value) -> integer -- return index of value.\n",
      " |      Raise ValueError if the value is not present.\n",
      " |  \n",
      " |  ----------------------------------------------------------------------\n",
      " |  Static methods defined here:\n",
      " |  \n",
      " |  __new__(*args, **kwargs) from builtins.type\n",
      " |      Create and return a new object.  See help(type) for accurate signature.\n",
      " |  \n",
      " |  ----------------------------------------------------------------------\n",
      " |  Data descriptors defined here:\n",
      " |  \n",
      " |  start\n",
      " |  \n",
      " |  step\n",
      " |  \n",
      " |  stop\n",
      "\n"
     ]
    }
   ],
   "source": [
    "# Use this function to view more info about a python function (With a DOCSTRING)\n",
    "help(range)"
   ]
  },
  {
   "cell_type": "markdown",
   "metadata": {},
   "source": [
    "##### isinstance()"
   ]
  },
  {
   "cell_type": "code",
   "execution_count": 65,
   "metadata": {},
   "outputs": [
    {
     "name": "stdout",
     "output_type": "stream",
     "text": [
      "True\n",
      "This number is a float type\n"
     ]
    }
   ],
   "source": [
    "# Check a variable to find out what Object family it belongs to\n",
    "# isinstace(var, type)\n",
    "\n",
    "num = 4.5\n",
    "print(isinstance(num, float))\n",
    "\n",
    "if isinstance(4.5,float):\n",
    "    print(\"This number is a float type\")\n",
    "else:\n",
    "    print"
   ]
  },
  {
   "cell_type": "markdown",
   "metadata": {},
   "source": [
    "##### abs()"
   ]
  },
  {
   "cell_type": "code",
   "execution_count": 66,
   "metadata": {},
   "outputs": [
    {
     "name": "stdout",
     "output_type": "stream",
     "text": [
      "5\n",
      "10\n"
     ]
    }
   ],
   "source": [
    "# | 5 |\n",
    "\n",
    "print(abs(-5)) #<-- really neat way to turn a negative into a positive\n",
    "\n",
    "print(abs(10))"
   ]
  },
  {
   "cell_type": "markdown",
   "metadata": {},
   "source": [
    "### Try and Except"
   ]
  },
  {
   "cell_type": "code",
   "execution_count": null,
   "metadata": {},
   "outputs": [],
   "source": [
    "# use whenever you expect to encounter a bug so that the error doesn't cause the program to stop\n",
    "# Use so that you can log out graceful and useful error messages\n",
    "\n",
    "try:\n",
    "    number_test = 0\n",
    "    input_num = int(input('Guess a Number'))\n",
    "    if input_num != number_test:\n",
    "        input_num = input_num + number_test\n",
    "        print(\"Your Number is: \" + str(input_num))\n",
    "except:\n",
    "    print('That did not work ---- ERROR: Change your input to a number')"
   ]
  },
  {
   "cell_type": "markdown",
   "metadata": {},
   "source": [
    "### Lists"
   ]
  },
  {
   "cell_type": "markdown",
   "metadata": {},
   "source": [
    "##### Declaring Lists"
   ]
  },
  {
   "cell_type": "code",
   "execution_count": 67,
   "metadata": {},
   "outputs": [
    {
     "name": "stdout",
     "output_type": "stream",
     "text": [
      "['Cassie', 'Misty', 'Brock', 'Gary', 'Nate']\n"
     ]
    }
   ],
   "source": [
    "l_1 = [] # Empty List Declaration\n",
    "\n",
    "names = ['Cassie','Misty','Brock', \"Gary\",\"Nate\"]\n",
    "\n",
    "print(names)\n"
   ]
  },
  {
   "cell_type": "markdown",
   "metadata": {},
   "source": [
    "##### Indexing a List"
   ]
  },
  {
   "cell_type": "code",
   "execution_count": 68,
   "metadata": {},
   "outputs": [
    {
     "name": "stdout",
     "output_type": "stream",
     "text": [
      "Cassie\n",
      "['Misty', 'Brock', 'Gary', 'Nate']\n",
      "['Cassie', 'Misty']\n",
      "['Misty', 'Gary']\n",
      "['Nate', 'Gary', 'Brock', 'Misty', 'Cassie']\n"
     ]
    }
   ],
   "source": [
    "# [start: stop: step] -- [-1]\n",
    "\n",
    "#Single Index\n",
    "print(names[0])\n",
    "\n",
    "# Print starting at index 1 going to the end\n",
    "print(names[1:])\n",
    "\n",
    "#Print starting at beginning of list to N (n == the number we want to stop at)\n",
    "print(names[:2])\n",
    "\n",
    "# print starting at index 1 going up BY 2 in each iteration\n",
    "print(names[1::2])\n",
    "\n",
    "# print starting at the back and present in reverse order\n",
    "print(names[::-1])\n"
   ]
  },
  {
   "cell_type": "code",
   "execution_count": 69,
   "metadata": {},
   "outputs": [
    {
     "name": "stdout",
     "output_type": "stream",
     "text": [
      "['Cassie', 'Misty', 'Brock', 'Gary', 'Nate', 'Professor Oak']\n"
     ]
    }
   ],
   "source": [
    "names = ['Cassie','Misty','Brock', \"Gary\",\"Nate\"]\n",
    "\n",
    "names.append('Professor Oak')\n",
    "print(names)"
   ]
  },
  {
   "cell_type": "markdown",
   "metadata": {},
   "source": [
    "##### .insert()"
   ]
  },
  {
   "cell_type": "code",
   "execution_count": 70,
   "metadata": {},
   "outputs": [
    {
     "name": "stdout",
     "output_type": "stream",
     "text": [
      "['Cassie', 'Misty', 'Officer Jenny', 'Brock', 'Gary', 'Nate', 'Professor Oak']\n"
     ]
    }
   ],
   "source": [
    "# list.insert(index,value)\n",
    "names.insert(2,\"Officer Jenny\")\n",
    "print(names)"
   ]
  },
  {
   "cell_type": "markdown",
   "metadata": {},
   "source": [
    "##### .pop()"
   ]
  },
  {
   "cell_type": "code",
   "execution_count": 71,
   "metadata": {},
   "outputs": [
    {
     "name": "stdout",
     "output_type": "stream",
     "text": [
      "Officer Jenny\n",
      "['Cassie', 'Misty', 'Brock', 'Gary', 'Nate', 'Professor Oak']\n"
     ]
    }
   ],
   "source": [
    "# default is the last value if no parameter is given\n",
    "# pop returns the element that was removed in case you want to assign it into a variable\n",
    "\n",
    "# my_name = names.pop()\n",
    "# print(my_name)\n",
    "\n",
    "print(names.pop(2))\n",
    "print(names)"
   ]
  },
  {
   "cell_type": "markdown",
   "metadata": {},
   "source": [
    "\n",
    "##### .remove()"
   ]
  },
  {
   "cell_type": "code",
   "execution_count": 72,
   "metadata": {},
   "outputs": [
    {
     "name": "stdout",
     "output_type": "stream",
     "text": [
      "['Cassie', 'Misty', 'Brock', 'Gary', 'Nate', 'Professor Oak']\n"
     ]
    }
   ],
   "source": [
    "# value to be removed , not index\n",
    "# list.remove(\"Bob\")\n",
    "\n",
    "new_names= [\"Ryan\", \"Alex\"]\n",
    "\n",
    "# new_names.remove = (\"Ryan\")\n",
    "# print(new_name)\n",
    "\n",
    "# remove multiple bobs out of list\n",
    "while 'bob' in names:\n",
    "    names.remove('bob')\n",
    "print(names)"
   ]
  },
  {
   "cell_type": "markdown",
   "metadata": {},
   "source": [
    "##### del()"
   ]
  },
  {
   "cell_type": "code",
   "execution_count": 73,
   "metadata": {},
   "outputs": [
    {
     "name": "stdout",
     "output_type": "stream",
     "text": [
      "['Cassie', 'Brock', 'Gary', 'Nate', 'Professor Oak']\n"
     ]
    }
   ],
   "source": [
    "# index to be removed, not value\n",
    "# BE CAREFUL with del, can cause indexing errors if not used carefully\n",
    "del(names[1])\n",
    "print(names)\n"
   ]
  },
  {
   "cell_type": "markdown",
   "metadata": {},
   "source": [
    "##### Concatenating Two Lists"
   ]
  },
  {
   "cell_type": "code",
   "execution_count": 74,
   "metadata": {},
   "outputs": [
    {
     "name": "stdout",
     "output_type": "stream",
     "text": [
      "[0, 1, 2, 3, 4, 5]\n"
     ]
    }
   ],
   "source": [
    "# will append two lists together, not add up the elements in each list\n",
    "\n",
    "l_2 = [0,1,2]\n",
    "l_3 = [3,4,5]\n",
    "\n",
    "large_list = l_2 + l_3\n",
    "print(large_list)\n"
   ]
  },
  {
   "cell_type": "markdown",
   "metadata": {},
   "source": [
    "##### Lists Within Lists"
   ]
  },
  {
   "cell_type": "code",
   "execution_count": 75,
   "metadata": {},
   "outputs": [
    {
     "name": "stdout",
     "output_type": "stream",
     "text": [
      "['Max', 'Sam', 'Josh', ['Sally', 'Sue', 'Tameka']]\n",
      "Sue\n"
     ]
    }
   ],
   "source": [
    "# Lists are able to hold any type of element, including OTHER lists themsevles\n",
    "# they can also go as deep as you want, having many lists nested inside of each other\n",
    "\n",
    "names = [\"Max\", \"Sam\",\"Josh\",[\"Sally\",\"Sue\",\"Tameka\"]]\n",
    "\n",
    "print(names)\n",
    "print(names[3][1])"
   ]
  },
  {
   "cell_type": "markdown",
   "metadata": {},
   "source": [
    "##### Looping Through Lists"
   ]
  },
  {
   "cell_type": "code",
   "execution_count": 76,
   "metadata": {},
   "outputs": [
    {
     "name": "stdout",
     "output_type": "stream",
     "text": [
      "Max\n",
      "Sam\n",
      "Josh\n",
      "['Sally', 'Sue', 'Tameka']\n",
      "Max\n",
      "Sam\n",
      "Josh\n",
      "['Sally', 'Sue', 'Tameka']\n"
     ]
    }
   ],
   "source": [
    "# two ways to loop through a list, one is by index, the other is by using the 'in' keyword\n",
    "\n",
    "# Loop with a for loop (By Index)\n",
    "for i in range(len(names)):\n",
    "    print(names[i])\n",
    "    \n",
    "# Loop with a for loop (Using the 'in' keyword)\n",
    "for i in names:\n",
    "    print(i)\n"
   ]
  },
  {
   "cell_type": "markdown",
   "metadata": {},
   "source": [
    "## Exercise #1 <br>\n",
    "<p>Cube Number Test... Print out all cubed numbers up to the total value 1000. Meaning that if the cubed number is over 1000 break the loop.</p>"
   ]
  },
  {
   "cell_type": "code",
   "execution_count": 82,
   "metadata": {},
   "outputs": [
    {
     "name": "stdout",
     "output_type": "stream",
     "text": [
      "1 1\n",
      "2 8\n",
      "3 27\n",
      "4 64\n",
      "5 125\n",
      "6 216\n",
      "7 343\n",
      "8 512\n",
      "9 729\n",
      "10 1000\n",
      "11 1331\n",
      "12 1728\n",
      "13 2197\n",
      "14 2744\n",
      "15 3375\n",
      "16 4096\n",
      "17 4913\n",
      "18 5832\n",
      "19 6859\n",
      "20 8000\n",
      "21 9261\n",
      "22 10648\n",
      "23 12167\n",
      "24 13824\n",
      "25 15625\n",
      "26 17576\n",
      "27 19683\n",
      "28 21952\n",
      "29 24389\n",
      "30 27000\n",
      "31 29791\n",
      "32 32768\n",
      "33 35937\n",
      "34 39304\n",
      "35 42875\n",
      "36 46656\n",
      "37 50653\n",
      "38 54872\n",
      "39 59319\n",
      "40 64000\n",
      "41 68921\n",
      "42 74088\n",
      "43 79507\n",
      "44 85184\n",
      "45 91125\n",
      "46 97336\n",
      "47 103823\n",
      "48 110592\n",
      "49 117649\n",
      "50 125000\n",
      "51 132651\n",
      "52 140608\n",
      "53 148877\n",
      "54 157464\n",
      "55 166375\n",
      "56 175616\n",
      "57 185193\n",
      "58 195112\n",
      "59 205379\n",
      "60 216000\n",
      "61 226981\n",
      "62 238328\n",
      "63 250047\n",
      "64 262144\n",
      "65 274625\n",
      "66 287496\n",
      "67 300763\n",
      "68 314432\n",
      "69 328509\n",
      "70 343000\n",
      "71 357911\n",
      "72 373248\n",
      "73 389017\n",
      "74 405224\n",
      "75 421875\n",
      "76 438976\n",
      "77 456533\n",
      "78 474552\n",
      "79 493039\n",
      "80 512000\n",
      "81 531441\n",
      "82 551368\n",
      "83 571787\n",
      "84 592704\n",
      "85 614125\n",
      "86 636056\n",
      "87 658503\n",
      "88 681472\n",
      "89 704969\n",
      "90 729000\n",
      "91 753571\n",
      "92 778688\n",
      "93 804357\n",
      "94 830584\n",
      "95 857375\n",
      "96 884736\n",
      "97 912673\n",
      "98 941192\n",
      "99 970299\n",
      "100 1000000\n",
      "101 1030301\n",
      "102 1061208\n",
      "103 1092727\n",
      "104 1124864\n",
      "105 1157625\n",
      "106 1191016\n",
      "107 1225043\n",
      "108 1259712\n",
      "109 1295029\n",
      "110 1331000\n",
      "111 1367631\n",
      "112 1404928\n",
      "113 1442897\n",
      "114 1481544\n",
      "115 1520875\n",
      "116 1560896\n",
      "117 1601613\n",
      "118 1643032\n",
      "119 1685159\n",
      "120 1728000\n",
      "121 1771561\n",
      "122 1815848\n",
      "123 1860867\n",
      "124 1906624\n",
      "125 1953125\n",
      "126 2000376\n",
      "127 2048383\n",
      "128 2097152\n",
      "129 2146689\n",
      "130 2197000\n",
      "131 2248091\n",
      "132 2299968\n",
      "133 2352637\n",
      "134 2406104\n",
      "135 2460375\n",
      "136 2515456\n",
      "137 2571353\n",
      "138 2628072\n",
      "139 2685619\n",
      "140 2744000\n",
      "141 2803221\n",
      "142 2863288\n",
      "143 2924207\n",
      "144 2985984\n",
      "145 3048625\n",
      "146 3112136\n",
      "147 3176523\n",
      "148 3241792\n",
      "149 3307949\n",
      "150 3375000\n",
      "151 3442951\n",
      "152 3511808\n",
      "153 3581577\n",
      "154 3652264\n",
      "155 3723875\n",
      "156 3796416\n",
      "157 3869893\n",
      "158 3944312\n",
      "159 4019679\n",
      "160 4096000\n",
      "161 4173281\n",
      "162 4251528\n",
      "163 4330747\n",
      "164 4410944\n",
      "165 4492125\n",
      "166 4574296\n",
      "167 4657463\n",
      "168 4741632\n",
      "169 4826809\n",
      "170 4913000\n",
      "171 5000211\n",
      "172 5088448\n",
      "173 5177717\n",
      "174 5268024\n",
      "175 5359375\n",
      "176 5451776\n",
      "177 5545233\n",
      "178 5639752\n",
      "179 5735339\n",
      "180 5832000\n",
      "181 5929741\n",
      "182 6028568\n",
      "183 6128487\n",
      "184 6229504\n",
      "185 6331625\n",
      "186 6434856\n",
      "187 6539203\n",
      "188 6644672\n",
      "189 6751269\n",
      "190 6859000\n",
      "191 6967871\n",
      "192 7077888\n",
      "193 7189057\n",
      "194 7301384\n",
      "195 7414875\n",
      "196 7529536\n",
      "197 7645373\n",
      "198 7762392\n",
      "199 7880599\n",
      "200 8000000\n",
      "201 8120601\n",
      "202 8242408\n",
      "203 8365427\n",
      "204 8489664\n",
      "205 8615125\n",
      "206 8741816\n",
      "207 8869743\n",
      "208 8998912\n",
      "209 9129329\n",
      "210 9261000\n",
      "211 9393931\n",
      "212 9528128\n",
      "213 9663597\n",
      "214 9800344\n",
      "215 9938375\n",
      "216 10077696\n",
      "217 10218313\n",
      "218 10360232\n",
      "219 10503459\n",
      "220 10648000\n",
      "221 10793861\n",
      "222 10941048\n",
      "223 11089567\n",
      "224 11239424\n",
      "225 11390625\n",
      "226 11543176\n",
      "227 11697083\n",
      "228 11852352\n",
      "229 12008989\n",
      "230 12167000\n",
      "231 12326391\n",
      "232 12487168\n",
      "233 12649337\n",
      "234 12812904\n",
      "235 12977875\n",
      "236 13144256\n",
      "237 13312053\n",
      "238 13481272\n",
      "239 13651919\n",
      "240 13824000\n",
      "241 13997521\n",
      "242 14172488\n",
      "243 14348907\n",
      "244 14526784\n",
      "245 14706125\n",
      "246 14886936\n",
      "247 15069223\n",
      "248 15252992\n",
      "249 15438249\n",
      "250 15625000\n",
      "251 15813251\n",
      "252 16003008\n",
      "253 16194277\n",
      "254 16387064\n",
      "255 16581375\n",
      "256 16777216\n",
      "257 16974593\n",
      "258 17173512\n",
      "259 17373979\n",
      "260 17576000\n",
      "261 17779581\n",
      "262 17984728\n",
      "263 18191447\n",
      "264 18399744\n",
      "265 18609625\n",
      "266 18821096\n",
      "267 19034163\n",
      "268 19248832\n",
      "269 19465109\n",
      "270 19683000\n",
      "271 19902511\n",
      "272 20123648\n",
      "273 20346417\n",
      "274 20570824\n",
      "275 20796875\n",
      "276 21024576\n",
      "277 21253933\n",
      "278 21484952\n",
      "279 21717639\n",
      "280 21952000\n",
      "281 22188041\n",
      "282 22425768\n",
      "283 22665187\n",
      "284 22906304\n",
      "285 23149125\n",
      "286 23393656\n",
      "287 23639903\n",
      "288 23887872\n",
      "289 24137569\n",
      "290 24389000\n",
      "291 24642171\n",
      "292 24897088\n",
      "293 25153757\n",
      "294 25412184\n",
      "295 25672375\n",
      "296 25934336\n",
      "297 26198073\n",
      "298 26463592\n",
      "299 26730899\n",
      "300 27000000\n",
      "301 27270901\n",
      "302 27543608\n",
      "303 27818127\n",
      "304 28094464\n",
      "305 28372625\n",
      "306 28652616\n",
      "307 28934443\n",
      "308 29218112\n",
      "309 29503629\n",
      "310 29791000\n",
      "311 30080231\n",
      "312 30371328\n",
      "313 30664297\n",
      "314 30959144\n",
      "315 31255875\n",
      "316 31554496\n",
      "317 31855013\n",
      "318 32157432\n",
      "319 32461759\n",
      "320 32768000\n",
      "321 33076161\n",
      "322 33386248\n",
      "323 33698267\n",
      "324 34012224\n",
      "325 34328125\n",
      "326 34645976\n",
      "327 34965783\n",
      "328 35287552\n",
      "329 35611289\n",
      "330 35937000\n",
      "331 36264691\n",
      "332 36594368\n",
      "333 36926037\n",
      "334 37259704\n",
      "335 37595375\n",
      "336 37933056\n",
      "337 38272753\n",
      "338 38614472\n",
      "339 38958219\n",
      "340 39304000\n",
      "341 39651821\n",
      "342 40001688\n",
      "343 40353607\n",
      "344 40707584\n",
      "345 41063625\n",
      "346 41421736\n",
      "347 41781923\n",
      "348 42144192\n",
      "349 42508549\n",
      "350 42875000\n",
      "351 43243551\n",
      "352 43614208\n",
      "353 43986977\n",
      "354 44361864\n",
      "355 44738875\n",
      "356 45118016\n",
      "357 45499293\n",
      "358 45882712\n",
      "359 46268279\n",
      "360 46656000\n",
      "361 47045881\n",
      "362 47437928\n",
      "363 47832147\n",
      "364 48228544\n",
      "365 48627125\n",
      "366 49027896\n",
      "367 49430863\n",
      "368 49836032\n",
      "369 50243409\n",
      "370 50653000\n",
      "371 51064811\n",
      "372 51478848\n",
      "373 51895117\n",
      "374 52313624\n",
      "375 52734375\n",
      "376 53157376\n",
      "377 53582633\n",
      "378 54010152\n",
      "379 54439939\n",
      "380 54872000\n",
      "381 55306341\n",
      "382 55742968\n",
      "383 56181887\n",
      "384 56623104\n",
      "385 57066625\n",
      "386 57512456\n",
      "387 57960603\n",
      "388 58411072\n",
      "389 58863869\n",
      "390 59319000\n",
      "391 59776471\n",
      "392 60236288\n",
      "393 60698457\n",
      "394 61162984\n",
      "395 61629875\n",
      "396 62099136\n",
      "397 62570773\n",
      "398 63044792\n",
      "399 63521199\n",
      "400 64000000\n",
      "401 64481201\n",
      "402 64964808\n",
      "403 65450827\n",
      "404 65939264\n",
      "405 66430125\n",
      "406 66923416\n",
      "407 67419143\n",
      "408 67917312\n",
      "409 68417929\n",
      "410 68921000\n",
      "411 69426531\n",
      "412 69934528\n",
      "413 70444997\n",
      "414 70957944\n",
      "415 71473375\n",
      "416 71991296\n",
      "417 72511713\n",
      "418 73034632\n",
      "419 73560059\n",
      "420 74088000\n",
      "421 74618461\n",
      "422 75151448\n",
      "423 75686967\n",
      "424 76225024\n",
      "425 76765625\n",
      "426 77308776\n",
      "427 77854483\n",
      "428 78402752\n",
      "429 78953589\n",
      "430 79507000\n",
      "431 80062991\n",
      "432 80621568\n",
      "433 81182737\n",
      "434 81746504\n",
      "435 82312875\n",
      "436 82881856\n",
      "437 83453453\n",
      "438 84027672\n",
      "439 84604519\n",
      "440 85184000\n",
      "441 85766121\n",
      "442 86350888\n",
      "443 86938307\n",
      "444 87528384\n",
      "445 88121125\n",
      "446 88716536\n",
      "447 89314623\n",
      "448 89915392\n",
      "449 90518849\n",
      "450 91125000\n",
      "451 91733851\n",
      "452 92345408\n",
      "453 92959677\n",
      "454 93576664\n",
      "455 94196375\n",
      "456 94818816\n",
      "457 95443993\n",
      "458 96071912\n",
      "459 96702579\n",
      "460 97336000\n",
      "461 97972181\n",
      "462 98611128\n",
      "463 99252847\n",
      "464 99897344\n",
      "465 100544625\n",
      "466 101194696\n",
      "467 101847563\n",
      "468 102503232\n",
      "469 103161709\n",
      "470 103823000\n",
      "471 104487111\n",
      "472 105154048\n",
      "473 105823817\n",
      "474 106496424\n",
      "475 107171875\n",
      "476 107850176\n",
      "477 108531333\n",
      "478 109215352\n",
      "479 109902239\n",
      "480 110592000\n",
      "481 111284641\n",
      "482 111980168\n",
      "483 112678587\n",
      "484 113379904\n",
      "485 114084125\n",
      "486 114791256\n",
      "487 115501303\n",
      "488 116214272\n",
      "489 116930169\n",
      "490 117649000\n",
      "491 118370771\n",
      "492 119095488\n",
      "493 119823157\n",
      "494 120553784\n",
      "495 121287375\n",
      "496 122023936\n",
      "497 122763473\n",
      "498 123505992\n",
      "499 124251499\n",
      "500 125000000\n",
      "501 125751501\n",
      "502 126506008\n",
      "503 127263527\n",
      "504 128024064\n",
      "505 128787625\n",
      "506 129554216\n",
      "507 130323843\n",
      "508 131096512\n",
      "509 131872229\n",
      "510 132651000\n",
      "511 133432831\n",
      "512 134217728\n",
      "513 135005697\n",
      "514 135796744\n",
      "515 136590875\n",
      "516 137388096\n",
      "517 138188413\n",
      "518 138991832\n",
      "519 139798359\n",
      "520 140608000\n",
      "521 141420761\n",
      "522 142236648\n",
      "523 143055667\n",
      "524 143877824\n",
      "525 144703125\n",
      "526 145531576\n",
      "527 146363183\n",
      "528 147197952\n",
      "529 148035889\n",
      "530 148877000\n",
      "531 149721291\n",
      "532 150568768\n",
      "533 151419437\n",
      "534 152273304\n",
      "535 153130375\n",
      "536 153990656\n",
      "537 154854153\n",
      "538 155720872\n",
      "539 156590819\n",
      "540 157464000\n",
      "541 158340421\n",
      "542 159220088\n",
      "543 160103007\n",
      "544 160989184\n",
      "545 161878625\n",
      "546 162771336\n",
      "547 163667323\n",
      "548 164566592\n",
      "549 165469149\n",
      "550 166375000\n",
      "551 167284151\n",
      "552 168196608\n",
      "553 169112377\n",
      "554 170031464\n",
      "555 170953875\n",
      "556 171879616\n",
      "557 172808693\n",
      "558 173741112\n",
      "559 174676879\n",
      "560 175616000\n",
      "561 176558481\n",
      "562 177504328\n",
      "563 178453547\n",
      "564 179406144\n",
      "565 180362125\n",
      "566 181321496\n",
      "567 182284263\n",
      "568 183250432\n",
      "569 184220009\n",
      "570 185193000\n",
      "571 186169411\n",
      "572 187149248\n",
      "573 188132517\n",
      "574 189119224\n",
      "575 190109375\n",
      "576 191102976\n",
      "577 192100033\n",
      "578 193100552\n",
      "579 194104539\n",
      "580 195112000\n",
      "581 196122941\n",
      "582 197137368\n",
      "583 198155287\n",
      "584 199176704\n",
      "585 200201625\n",
      "586 201230056\n",
      "587 202262003\n",
      "588 203297472\n",
      "589 204336469\n",
      "590 205379000\n",
      "591 206425071\n",
      "592 207474688\n",
      "593 208527857\n",
      "594 209584584\n",
      "595 210644875\n",
      "596 211708736\n",
      "597 212776173\n",
      "598 213847192\n",
      "599 214921799\n",
      "600 216000000\n",
      "601 217081801\n",
      "602 218167208\n",
      "603 219256227\n",
      "604 220348864\n",
      "605 221445125\n",
      "606 222545016\n",
      "607 223648543\n",
      "608 224755712\n",
      "609 225866529\n",
      "610 226981000\n",
      "611 228099131\n",
      "612 229220928\n",
      "613 230346397\n",
      "614 231475544\n",
      "615 232608375\n",
      "616 233744896\n",
      "617 234885113\n",
      "618 236029032\n",
      "619 237176659\n",
      "620 238328000\n",
      "621 239483061\n",
      "622 240641848\n",
      "623 241804367\n",
      "624 242970624\n",
      "625 244140625\n",
      "626 245314376\n",
      "627 246491883\n",
      "628 247673152\n",
      "629 248858189\n",
      "630 250047000\n",
      "631 251239591\n",
      "632 252435968\n",
      "633 253636137\n",
      "634 254840104\n",
      "635 256047875\n",
      "636 257259456\n",
      "637 258474853\n",
      "638 259694072\n",
      "639 260917119\n",
      "640 262144000\n",
      "641 263374721\n",
      "642 264609288\n",
      "643 265847707\n",
      "644 267089984\n",
      "645 268336125\n",
      "646 269586136\n",
      "647 270840023\n",
      "648 272097792\n",
      "649 273359449\n",
      "650 274625000\n",
      "651 275894451\n",
      "652 277167808\n",
      "653 278445077\n",
      "654 279726264\n",
      "655 281011375\n",
      "656 282300416\n",
      "657 283593393\n",
      "658 284890312\n",
      "659 286191179\n",
      "660 287496000\n",
      "661 288804781\n",
      "662 290117528\n",
      "663 291434247\n",
      "664 292754944\n",
      "665 294079625\n",
      "666 295408296\n",
      "667 296740963\n",
      "668 298077632\n",
      "669 299418309\n",
      "670 300763000\n",
      "671 302111711\n",
      "672 303464448\n",
      "673 304821217\n",
      "674 306182024\n",
      "675 307546875\n",
      "676 308915776\n",
      "677 310288733\n",
      "678 311665752\n",
      "679 313046839\n",
      "680 314432000\n",
      "681 315821241\n",
      "682 317214568\n",
      "683 318611987\n",
      "684 320013504\n",
      "685 321419125\n",
      "686 322828856\n",
      "687 324242703\n",
      "688 325660672\n",
      "689 327082769\n",
      "690 328509000\n",
      "691 329939371\n",
      "692 331373888\n",
      "693 332812557\n",
      "694 334255384\n",
      "695 335702375\n",
      "696 337153536\n",
      "697 338608873\n",
      "698 340068392\n",
      "699 341532099\n",
      "700 343000000\n",
      "701 344472101\n",
      "702 345948408\n",
      "703 347428927\n",
      "704 348913664\n",
      "705 350402625\n",
      "706 351895816\n",
      "707 353393243\n",
      "708 354894912\n",
      "709 356400829\n",
      "710 357911000\n",
      "711 359425431\n",
      "712 360944128\n",
      "713 362467097\n",
      "714 363994344\n",
      "715 365525875\n",
      "716 367061696\n",
      "717 368601813\n",
      "718 370146232\n",
      "719 371694959\n",
      "720 373248000\n",
      "721 374805361\n",
      "722 376367048\n",
      "723 377933067\n",
      "724 379503424\n",
      "725 381078125\n",
      "726 382657176\n",
      "727 384240583\n",
      "728 385828352\n",
      "729 387420489\n",
      "730 389017000\n",
      "731 390617891\n",
      "732 392223168\n",
      "733 393832837\n",
      "734 395446904\n",
      "735 397065375\n",
      "736 398688256\n",
      "737 400315553\n",
      "738 401947272\n",
      "739 403583419\n",
      "740 405224000\n",
      "741 406869021\n",
      "742 408518488\n",
      "743 410172407\n",
      "744 411830784\n",
      "745 413493625\n",
      "746 415160936\n",
      "747 416832723\n",
      "748 418508992\n",
      "749 420189749\n",
      "750 421875000\n",
      "751 423564751\n",
      "752 425259008\n",
      "753 426957777\n",
      "754 428661064\n",
      "755 430368875\n",
      "756 432081216\n",
      "757 433798093\n",
      "758 435519512\n",
      "759 437245479\n",
      "760 438976000\n",
      "761 440711081\n",
      "762 442450728\n",
      "763 444194947\n",
      "764 445943744\n",
      "765 447697125\n",
      "766 449455096\n",
      "767 451217663\n",
      "768 452984832\n",
      "769 454756609\n",
      "770 456533000\n",
      "771 458314011\n",
      "772 460099648\n",
      "773 461889917\n",
      "774 463684824\n",
      "775 465484375\n",
      "776 467288576\n",
      "777 469097433\n",
      "778 470910952\n",
      "779 472729139\n",
      "780 474552000\n",
      "781 476379541\n",
      "782 478211768\n",
      "783 480048687\n",
      "784 481890304\n",
      "785 483736625\n",
      "786 485587656\n",
      "787 487443403\n",
      "788 489303872\n",
      "789 491169069\n",
      "790 493039000\n",
      "791 494913671\n",
      "792 496793088\n",
      "793 498677257\n",
      "794 500566184\n",
      "795 502459875\n",
      "796 504358336\n",
      "797 506261573\n",
      "798 508169592\n",
      "799 510082399\n",
      "800 512000000\n",
      "801 513922401\n",
      "802 515849608\n",
      "803 517781627\n",
      "804 519718464\n",
      "805 521660125\n",
      "806 523606616\n",
      "807 525557943\n",
      "808 527514112\n",
      "809 529475129\n",
      "810 531441000\n",
      "811 533411731\n",
      "812 535387328\n",
      "813 537367797\n",
      "814 539353144\n",
      "815 541343375\n",
      "816 543338496\n",
      "817 545338513\n",
      "818 547343432\n",
      "819 549353259\n",
      "820 551368000\n",
      "821 553387661\n",
      "822 555412248\n",
      "823 557441767\n",
      "824 559476224\n",
      "825 561515625\n",
      "826 563559976\n",
      "827 565609283\n",
      "828 567663552\n",
      "829 569722789\n",
      "830 571787000\n",
      "831 573856191\n",
      "832 575930368\n",
      "833 578009537\n",
      "834 580093704\n",
      "835 582182875\n",
      "836 584277056\n",
      "837 586376253\n",
      "838 588480472\n",
      "839 590589719\n",
      "840 592704000\n",
      "841 594823321\n",
      "842 596947688\n",
      "843 599077107\n",
      "844 601211584\n",
      "845 603351125\n",
      "846 605495736\n",
      "847 607645423\n",
      "848 609800192\n",
      "849 611960049\n",
      "850 614125000\n",
      "851 616295051\n",
      "852 618470208\n",
      "853 620650477\n",
      "854 622835864\n",
      "855 625026375\n",
      "856 627222016\n",
      "857 629422793\n",
      "858 631628712\n",
      "859 633839779\n",
      "860 636056000\n",
      "861 638277381\n",
      "862 640503928\n",
      "863 642735647\n",
      "864 644972544\n",
      "865 647214625\n",
      "866 649461896\n",
      "867 651714363\n",
      "868 653972032\n",
      "869 656234909\n",
      "870 658503000\n",
      "871 660776311\n",
      "872 663054848\n",
      "873 665338617\n",
      "874 667627624\n",
      "875 669921875\n",
      "876 672221376\n",
      "877 674526133\n",
      "878 676836152\n",
      "879 679151439\n",
      "880 681472000\n",
      "881 683797841\n",
      "882 686128968\n",
      "883 688465387\n",
      "884 690807104\n",
      "885 693154125\n",
      "886 695506456\n",
      "887 697864103\n",
      "888 700227072\n",
      "889 702595369\n",
      "890 704969000\n",
      "891 707347971\n",
      "892 709732288\n",
      "893 712121957\n",
      "894 714516984\n",
      "895 716917375\n",
      "896 719323136\n",
      "897 721734273\n",
      "898 724150792\n",
      "899 726572699\n",
      "900 729000000\n",
      "901 731432701\n",
      "902 733870808\n",
      "903 736314327\n",
      "904 738763264\n",
      "905 741217625\n",
      "906 743677416\n",
      "907 746142643\n",
      "908 748613312\n",
      "909 751089429\n",
      "910 753571000\n",
      "911 756058031\n",
      "912 758550528\n",
      "913 761048497\n",
      "914 763551944\n",
      "915 766060875\n",
      "916 768575296\n",
      "917 771095213\n",
      "918 773620632\n",
      "919 776151559\n",
      "920 778688000\n",
      "921 781229961\n",
      "922 783777448\n",
      "923 786330467\n",
      "924 788889024\n",
      "925 791453125\n",
      "926 794022776\n",
      "927 796597983\n",
      "928 799178752\n",
      "929 801765089\n",
      "930 804357000\n",
      "931 806954491\n",
      "932 809557568\n",
      "933 812166237\n",
      "934 814780504\n",
      "935 817400375\n",
      "936 820025856\n",
      "937 822656953\n",
      "938 825293672\n",
      "939 827936019\n",
      "940 830584000\n",
      "941 833237621\n",
      "942 835896888\n",
      "943 838561807\n",
      "944 841232384\n",
      "945 843908625\n",
      "946 846590536\n",
      "947 849278123\n",
      "948 851971392\n",
      "949 854670349\n",
      "950 857375000\n",
      "951 860085351\n",
      "952 862801408\n",
      "953 865523177\n",
      "954 868250664\n",
      "955 870983875\n",
      "956 873722816\n",
      "957 876467493\n",
      "958 879217912\n",
      "959 881974079\n",
      "960 884736000\n",
      "961 887503681\n",
      "962 890277128\n",
      "963 893056347\n",
      "964 895841344\n",
      "965 898632125\n",
      "966 901428696\n",
      "967 904231063\n",
      "968 907039232\n",
      "969 909853209\n",
      "970 912673000\n",
      "971 915498611\n",
      "972 918330048\n",
      "973 921167317\n",
      "974 924010424\n",
      "975 926859375\n",
      "976 929714176\n",
      "977 932574833\n",
      "978 935441352\n",
      "979 938313739\n",
      "980 941192000\n",
      "981 944076141\n",
      "982 946966168\n",
      "983 949862087\n",
      "984 952763904\n",
      "985 955671625\n",
      "986 958585256\n",
      "987 961504803\n",
      "988 964430272\n",
      "989 967361669\n",
      "990 970299000\n",
      "991 973242271\n",
      "992 976191488\n",
      "993 979146657\n",
      "994 982107784\n",
      "995 985074875\n",
      "996 988047936\n",
      "997 991026973\n",
      "998 994011992\n",
      "999 997002999\n"
     ]
    }
   ],
   "source": [
    "for i in range(1, 1000):\n",
    "    print(i, i * i * i)\n",
    "else:\n",
    "    ('Loop ended if, i > 1000') "
   ]
  },
  {
   "cell_type": "markdown",
   "metadata": {},
   "source": [
    "## Exercise #2 <br>\n",
    "<p>Get first prime numbers up to 100</p>"
   ]
  },
  {
   "cell_type": "code",
   "execution_count": 84,
   "metadata": {},
   "outputs": [
    {
     "name": "stdout",
     "output_type": "stream",
     "text": [
      "All prime numbers upto 100 are: 2 3 5 7 11 13 17 19 23 29 31 37 41 43 47 53 59 61 67 71 73 79 83 89 97 \n"
     ]
    }
   ],
   "source": [
    "# HINT::\n",
    "# An else after an if runs if the if didn’t\n",
    "# An else after a for runs if the for didn’t break\n",
    "\n",
    "n = 100\n",
    "\n",
    "print(\"All prime numbers upto \" + str(n) + \" are: \", end='')\n",
    "for i in range(2, n + 1): \n",
    "    prime = True\n",
    "    for j in range(2, i):\n",
    "        if i % j == 0:\n",
    "            prime = False\n",
    "    if prime:\n",
    "        print(i, end=' ')\n",
    "\n",
    "print()"
   ]
  },
  {
   "cell_type": "markdown",
   "metadata": {},
   "source": [
    "# Exercise 3 <br>\n",
    "<p>Take in a users input for their age, if they are younger than 18 print kids, if they're 18 to 65 print adults, else print seniors</p>"
   ]
  },
  {
   "cell_type": "code",
   "execution_count": null,
   "metadata": {},
   "outputs": [],
   "source": [
    "age = int(input('Please enter a users age.'))\n",
    "if age < 18: print('The user is an kid.')\n",
    "if age <= 18 and age > 65: print('The person is an adult.')\n",
    "if age >= 66: print('The user is a senior.')"
   ]
  },
  {
   "cell_type": "code",
   "execution_count": null,
   "metadata": {},
   "outputs": [],
   "source": []
  }
 ],
 "metadata": {
  "kernelspec": {
   "display_name": "Python 3 (ipykernel)",
   "language": "python",
   "name": "python3"
  },
  "language_info": {
   "codemirror_mode": {
    "name": "ipython",
    "version": 3
   },
   "file_extension": ".py",
   "mimetype": "text/x-python",
   "name": "python",
   "nbconvert_exporter": "python",
   "pygments_lexer": "ipython3",
   "version": "3.9.12"
  }
 },
 "nbformat": 4,
 "nbformat_minor": 2
}
